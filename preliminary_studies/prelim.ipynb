{
 "cells": [
  {
   "cell_type": "code",
   "execution_count": 2,
   "metadata": {},
   "outputs": [],
   "source": [
    "from itertools import product\n",
    "from time import sleep\n",
    "from typing import Callable, Optional\n",
    "\n",
    "import matplotlib.pyplot as plt\n",
    "import numpy as np\n",
    "from numpy.random import RandomState\n",
    "import seaborn as sns"
   ]
  },
  {
   "cell_type": "code",
   "execution_count": 3,
   "metadata": {},
   "outputs": [],
   "source": [
    "q = 4\n",
    "RANDOM_SEED = 42424\n",
    "WIDTH = 15\n",
    "J_c = 1  # ?\n",
    "h = 1"
   ]
  },
  {
   "cell_type": "code",
   "execution_count": 4,
   "metadata": {},
   "outputs": [],
   "source": [
    "# Python type hinting; the code works well without this\n",
    "Interaction = Callable[[int, int], float]"
   ]
  },
  {
   "cell_type": "code",
   "execution_count": 5,
   "metadata": {},
   "outputs": [],
   "source": [
    "def generate_correlated_field(rg: RandomState, correlation: float=0.3):\n",
    "    field = np.array(rg.randint(q, size=[WIDTH, WIDTH]), dtype=np.int8)\n",
    "\n",
    "    for i in range(field.shape[0]):\n",
    "        for j in range(field.shape[1]):\n",
    "            if i > 0 and j > 0 and rg.uniform() < correlation:\n",
    "                if rg.uniform() < 0.5:\n",
    "                    field[i,j] = field[i-1,j]\n",
    "                else:\n",
    "                    field[i,j] = field[i,j-1]\n",
    "    return field"
   ]
  },
  {
   "cell_type": "code",
   "execution_count": 6,
   "metadata": {},
   "outputs": [],
   "source": [
    "rg = RandomState(RANDOM_SEED)\n",
    "field = generate_correlated_field(rg, 0.5)"
   ]
  },
  {
   "cell_type": "code",
   "execution_count": 7,
   "metadata": {},
   "outputs": [
    {
     "data": {
      "image/png": "[encoded data removed]",
      "text/plain": [
       "<Figure size 432x288 with 1 Axes>"
      ]
     },
     "metadata": {},
     "output_type": "display_data"
    }
   ],
   "source": [
    "%matplotlib inline\n",
    "def show_field(field: np.ndarray, title: Optional[str]=None) -> None:\n",
    "    sns.set()\n",
    "    ax = sns.heatmap(field, center=q/2, square=True, cbar=False)\n",
    "    if title:\n",
    "        ax.set_title(title)\n",
    "    ax.get_figure().savefig('field.png')\n",
    "\n",
    "show_field(field, 'Test')"
   ]
  },
  {
   "cell_type": "code",
   "execution_count": 8,
   "metadata": {},
   "outputs": [
    {
     "data": {
      "text/plain": [
       "687.0"
      ]
     },
     "execution_count": 8,
     "metadata": {},
     "output_type": "execute_result"
    }
   ],
   "source": [
    "def kronecker(spin_1: int, spin_2: int) -> float:\n",
    "    return float(spin_1 == spin_2)\n",
    "\n",
    "def energy(field: np.ndarray, interaction: Interaction) -> float:\n",
    "    energy = 0\n",
    "    for i, j in product(range(WIDTH - 1), range(WIDTH)):\n",
    "        energy += interaction(field[i, j], field[i + 1, j])\n",
    "\n",
    "    for i, j in product(range(WIDTH), range(WIDTH - 1)):  # dim\n",
    "        energy += interaction(field[i, j], field[i, j + 1])\n",
    "    \n",
    "    return 2 * J_c * energy + h * field.sum()\n",
    "    \n",
    "energy(field, kronecker)"
   ]
  },
  {
   "cell_type": "code",
   "execution_count": 10,
   "metadata": {},
   "outputs": [
    {
     "data": {
      "image/png": "[encoded data removed]",
      "text/plain": [
       "<Figure size 432x288 with 1 Axes>"
      ]
     },
     "metadata": {},
     "output_type": "display_data"
    }
   ],
   "source": [
    "def calculate_interaction_of_one_spin(field: np.ndarray, x: int, y: int, interaction: Interaction) -> float:\n",
    "    # factor 2 ?!\n",
    "    energy = 0\n",
    "    if x > 0:  # dim!!\n",
    "        energy += interaction(field[x-1,y], field[x,y])\n",
    "    if x < WIDTH - 1:\n",
    "        energy += interaction(field[x,y], field[x+1,y])\n",
    "    if y > 0:\n",
    "        energy += interaction(field[x,y-1], field[x,y])\n",
    "    if y < WIDTH - 1:\n",
    "        energy += interaction(field[x,y], field[x,y+1])\n",
    "    return 2 * J_c * energy\n",
    "\n",
    "def calculate_energy_difference(field: np.ndarray, x: int, y: int, new_spin: int, interaction: Interaction) -> (float, np.ndarray):\n",
    "    # positive return value: update would imply energetically less favorable state\n",
    "    current_energy = calculate_interaction_of_one_spin(field, x, y, interaction)\n",
    "    field_updated = field.copy()  # Avoid side effects of function by copying\n",
    "    field_updated[x,y] = new_spin\n",
    "    updated_energy = calculate_interaction_of_one_spin(field_updated, x, y, interaction)\n",
    "    energy_difference = updated_energy - current_energy + h * (field_updated[x,y] - field[x,y])\n",
    "    return (updated_energy - current_energy, field_updated)\n",
    "\n",
    "def update_metropolis(field: np.ndarray, free_energy: float, interaction: Interaction, random_state: RandomState) -> (np.ndarray, float):\n",
    "    random_x, random_y = random_state.randint(WIDTH, size=[2])  # dim\n",
    "    random_spin = random_state.randint(q)\n",
    "    energy_difference, field_updated = calculate_energy_difference(field, random_x, random_y, random_spin, interaction)\n",
    "    if energy_difference < 0 or random_state.uniform():\n",
    "        # free_energy_updated = free_energy - energy_difference\n",
    "        return field_updated, free_energy\n",
    "    else:\n",
    "        return field, free_energy\n",
    "\n",
    "free_energy = 0\n",
    "rg = RandomState(RANDOM_SEED)\n",
    "field = np.array(rg.randint(q, size=[WIDTH, WIDTH]), dtype=np.int8)\n",
    "for i in range(100):\n",
    "    for _ in range(10):\n",
    "        field, free_energy = update_metropolis(field, free_energy, kronecker, rg)\n",
    "    show_field(field, f'Free energy: {free_energy}')\n",
    "    sleep(0.2)"
   ]
  },
  {
   "cell_type": "markdown",
   "metadata": {},
   "source": [
    "Possible future extension:\n",
    "* Boundary conditions at will\n",
    "* Higher number of dimensions\n"
   ]
  },
  {
   "cell_type": "code",
   "execution_count": null,
   "metadata": {},
   "outputs": [],
   "source": []
  },
  {
   "cell_type": "code",
   "execution_count": null,
   "metadata": {},
   "outputs": [],
   "source": []
  },
  {
   "cell_type": "code",
   "execution_count": null,
   "metadata": {},
   "outputs": [],
   "source": []
  }
 ],
 "metadata": {
  "kernelspec": {
   "display_name": "Python 3",
   "language": "python",
   "name": "python3"
  },
  "language_info": {
   "codemirror_mode": {
    "name": "ipython",
    "version": 3
   },
   "file_extension": ".py",
   "mimetype": "text/x-python",
   "name": "python",
   "nbconvert_exporter": "python",
   "pygments_lexer": "ipython3",
   "version": "3.6.9"
  }
 },
 "nbformat": 4,
 "nbformat_minor": 2
}
